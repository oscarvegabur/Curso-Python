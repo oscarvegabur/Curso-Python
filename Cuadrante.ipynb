{
  "nbformat": 4,
  "nbformat_minor": 0,
  "metadata": {
    "colab": {
      "provenance": [],
      "authorship_tag": "ABX9TyOmBr2/Axih/U65Ut1BuDU2",
      "include_colab_link": true
    },
    "kernelspec": {
      "name": "python3",
      "display_name": "Python 3"
    },
    "language_info": {
      "name": "python"
    }
  },
  "cells": [
    {
      "cell_type": "markdown",
      "metadata": {
        "id": "view-in-github",
        "colab_type": "text"
      },
      "source": [
        "<a href=\"https://colab.research.google.com/github/oscarvegabur/Curso-Python/blob/main/Cuadrante.ipynb\" target=\"_parent\"><img src=\"https://colab.research.google.com/assets/colab-badge.svg\" alt=\"Open In Colab\"/></a>"
      ]
    },
    {
      "cell_type": "code",
      "execution_count": null,
      "metadata": {
        "id": "VSLSpX19k9C9"
      },
      "outputs": [],
      "source": [
        "#En este codigo lo que se busca es que el usuario nos proporcione dos coordenadas.\n",
        "\n",
        "#se le pide al usuario que nos de dos alores numericos entero para graficarlos.\n",
        "\n",
        "x = int(input(\"ingresa la coordenada x por favor:\"))\n",
        "y = int(input(\"ingresa la coordenada y por favor:\"))\n",
        "\n",
        "#una vez ingresados los valores de X y Y tenemos que categoizar las ejes y cuadrantes\n",
        "\n",
        "if x == 0 and y == 0:\n",
        "    print(\"Estas en el punto de origen\")\n",
        "if x == 0:\n",
        "    print(\"Estas en el eje Y\")\n",
        "if y == 0:\n",
        "    print(\"Estas en el eje X\")\n",
        "if x > 0 and y > 0:\n",
        "    print(\"Estas en el primer cuadrante\")\n",
        "if x < 0 and y > 0:\n",
        "    print(\"Estas en el segundo cuadrante\")\n",
        "if x < 0 and y < 0:\n",
        "    print(\"Estas en el tercer cuadrante\")\n",
        "if x > 0 and y < 0:\n",
        "    print(\"Estas en el cuarto cuadrante\")\n",
        "print ()"
      ]
    },
    {
      "cell_type": "code",
      "source": [],
      "metadata": {
        "id": "Dh9YeG75EUcF"
      },
      "execution_count": null,
      "outputs": []
    }
  ]
}