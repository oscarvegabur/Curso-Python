{
  "nbformat": 4,
  "nbformat_minor": 0,
  "metadata": {
    "colab": {
      "provenance": [],
      "authorship_tag": "ABX9TyOHh0HGfXDL5TT3vg6tW81H",
      "include_colab_link": true
    },
    "kernelspec": {
      "name": "python3",
      "display_name": "Python 3"
    },
    "language_info": {
      "name": "python"
    }
  },
  "cells": [
    {
      "cell_type": "markdown",
      "metadata": {
        "id": "view-in-github",
        "colab_type": "text"
      },
      "source": [
        "<a href=\"https://colab.research.google.com/github/oscarvegabur/Curso-Python/blob/main/Cuadrante.ipynb\" target=\"_parent\"><img src=\"https://colab.research.google.com/assets/colab-badge.svg\" alt=\"Open In Colab\"/></a>"
      ]
    },
    {
      "cell_type": "code",
      "execution_count": 4,
      "metadata": {
        "colab": {
          "base_uri": "https://localhost:8080/"
        },
        "id": "VSLSpX19k9C9",
        "outputId": "bb966905-e034-4ff3-8457-770254441693"
      },
      "outputs": [
        {
          "output_type": "stream",
          "name": "stdout",
          "text": [
            "ingresa la coordenada x por favor:0\n",
            "ingresa la coordenada y por favor:0\n",
            "Estas en el punto de origen\n",
            "\n"
          ]
        }
      ],
      "source": [
        "#En este codigo lo que se busca es que el usuario nos proporcione dos coordenadas.\n",
        "\n",
        "#se le pide al usuario que nos de dos alores numericos entero para graficarlos.\n",
        "\n",
        "x = int(input(\"ingresa la coordenada x por favor:\"))\n",
        "y = int(input(\"ingresa la coordenada y por favor:\"))\n",
        "\n",
        "#una vez ingresados los valores de X y Y tenemos que categoizar las ejes y cuadrantes\n",
        "\n",
        "if x == 0 and y == 0:\n",
        "    print(\"Estas en el punto de origen\")\n",
        "elif x == 0:\n",
        "    print(\"Estas en el eje Y\")\n",
        "elif y == 0:\n",
        "    print(\"Estas en el eje X\")\n",
        "elif x > 0 and y > 0:\n",
        "    print(\"Estas en el primer cuadrante\")\n",
        "elif x < 0 and y > 0:\n",
        "    print(\"Estas en el segundo cuadrante\")\n",
        "elif x < 0 and y < 0:\n",
        "    print(\"Estas en el tercer cuadrante\")\n",
        "elif x > 0 and y < 0:\n",
        "    print(\"Estas en el cuarto cuadrante\")\n",
        "print ()"
      ]
    }
  ]
}