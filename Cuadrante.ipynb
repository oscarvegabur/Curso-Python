{
  "nbformat": 4,
  "nbformat_minor": 0,
  "metadata": {
    "colab": {
      "provenance": [],
      "authorship_tag": "ABX9TyOOnBq4nGOnASdGZrTnMPON",
      "include_colab_link": true
    },
    "kernelspec": {
      "name": "python3",
      "display_name": "Python 3"
    },
    "language_info": {
      "name": "python"
    }
  },
  "cells": [
    {
      "cell_type": "markdown",
      "metadata": {
        "id": "view-in-github",
        "colab_type": "text"
      },
      "source": [
        "<a href=\"https://colab.research.google.com/github/oscarvegabur/Curso-Python/blob/main/Cuadrante.ipynb\" target=\"_parent\"><img src=\"https://colab.research.google.com/assets/colab-badge.svg\" alt=\"Open In Colab\"/></a>"
      ]
    },
    {
      "cell_type": "code",
      "execution_count": 3,
      "metadata": {
        "id": "VSLSpX19k9C9",
        "colab": {
          "base_uri": "https://localhost:8080/"
        },
        "outputId": "20379ae1-7c68-4cf6-b7f2-6334819b97c1"
      },
      "outputs": [
        {
          "output_type": "stream",
          "name": "stdout",
          "text": [
            "ingresa la coordenada x por favor:9\n",
            "ingresa la coordenada y por favor:-7\n",
            "Estas en el cuarto cuadrante\n"
          ]
        }
      ],
      "source": [
        "#En este codigo lo que se busca es que el usuario nos proporcione dos coordenadas.\n",
        "\n",
        "#se le pide al usuario que nos de dos alores numericos entero para graficarlos.\n",
        "\n",
        "x = int(input(\"ingresa la coordenada x por favor:\"))\n",
        "y = int(input(\"ingresa la coordenada y por favor:\"))\n",
        "\n",
        "#una vez ingresados los valores de X y Y tenemos que categorizar los ejes y cuadrantes.\n",
        "\n",
        "if x == 0 and y == 0:\n",
        "    print(\"Los valores no pueden ser 0\")\n",
        "if x == 0:\n",
        "    print(\"Lo siento el valor de X no puede ser 0 intentalo otravez\")\n",
        "if y == 0:\n",
        "    print(\"Lo siento el valor de Y no puede ser 0 intentalo otravez\")\n",
        "if x > 0 and y > 0:\n",
        "    print(\"Estas en el primer cuadrante\")\n",
        "if x < 0 and y > 0:\n",
        "    print(\"Estas en el segundo cuadrante\")\n",
        "if x < 0 and y < 0:\n",
        "    print(\"Estas en el tercer cuadrante\")\n",
        "if x > 0 and y < 0:\n",
        "    print(\"Estas en el cuarto cuadrante\")\n"
      ]
    },
    {
      "cell_type": "code",
      "source": [],
      "metadata": {
        "id": "d9U4Oao2ggp7"
      },
      "execution_count": null,
      "outputs": []
    },
    {
      "cell_type": "code",
      "source": [],
      "metadata": {
        "id": "Dh9YeG75EUcF"
      },
      "execution_count": null,
      "outputs": []
    }
  ]
}