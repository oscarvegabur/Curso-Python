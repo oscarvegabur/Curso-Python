{
  "nbformat": 4,
  "nbformat_minor": 0,
  "metadata": {
    "colab": {
      "provenance": [],
      "authorship_tag": "ABX9TyNWcAwjSEiUP/1MkcauYY0Z",
      "include_colab_link": true
    },
    "kernelspec": {
      "name": "python3",
      "display_name": "Python 3"
    },
    "language_info": {
      "name": "python"
    }
  },
  "cells": [
    {
      "cell_type": "markdown",
      "metadata": {
        "id": "view-in-github",
        "colab_type": "text"
      },
      "source": [
        "<a href=\"https://colab.research.google.com/github/oscarvegabur/Curso-Python/blob/main/Longitud_de_palabra_py.ipynb\" target=\"_parent\"><img src=\"https://colab.research.google.com/assets/colab-badge.svg\" alt=\"Open In Colab\"/></a>"
      ]
    },
    {
      "cell_type": "code",
      "execution_count": null,
      "metadata": {
        "id": "6MXCnL6pVs1L"
      },
      "outputs": [],
      "source": [
        "#COMIENZO DEL CODIGO PARA VERIFICAR LA LONGITUD DE UNA PALABRA QUE TIENE QUE TENER ENTRE 4 Y 8 CARACTERES.\n",
        "#se le pide al usuario introducir su palabra\n",
        "\n",
        "palabra = input (\"Introduce una plabra por favor: \")\n",
        "\n",
        "#En este paso se guarda en la variable \"l\" la longitud de la palabra\n",
        "l=len(palabra)\n",
        "#En los siguientes codigos se categoriza que repuesta darle al usuario dependiendo de la longitud de su palabra.\n",
        "if l <= 3:\n",
        "  print(f\"Hacen falta letras. Tienes {l} letras en tu palabra\")\n",
        "elif l >= 4 and l <= 8:\n",
        "  print(f\"La palabra esta en en rango correcto y tiene {l} letras.\")\n",
        "elif l > 8:\n",
        "  print(f\"Sobran letras. Tienes {l} letras en tu palabra \")\n"
      ]
    },
    {
      "cell_type": "markdown",
      "source": [
        "# Sección nueva"
      ],
      "metadata": {
        "id": "DRE8hK7qk4RY"
      }
    }
  ]
}