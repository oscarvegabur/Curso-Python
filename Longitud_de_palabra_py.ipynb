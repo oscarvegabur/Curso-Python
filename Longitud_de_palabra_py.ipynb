{
  "nbformat": 4,
  "nbformat_minor": 0,
  "metadata": {
    "colab": {
      "provenance": [],
      "toc_visible": true,
      "authorship_tag": "ABX9TyPbxVqBTMcO5hqJXJ1yVDXj",
      "include_colab_link": true
    },
    "kernelspec": {
      "name": "python3",
      "display_name": "Python 3"
    },
    "language_info": {
      "name": "python"
    }
  },
  "cells": [
    {
      "cell_type": "markdown",
      "metadata": {
        "id": "view-in-github",
        "colab_type": "text"
      },
      "source": [
        "<a href=\"https://colab.research.google.com/github/oscarvegabur/Curso-Python/blob/main/Longitud_de_palabra_py.ipynb\" target=\"_parent\"><img src=\"https://colab.research.google.com/assets/colab-badge.svg\" alt=\"Open In Colab\"/></a>"
      ]
    },
    {
      "cell_type": "code",
      "execution_count": null,
      "metadata": {
        "colab": {
          "base_uri": "https://localhost:8080/"
        },
        "id": "6MXCnL6pVs1L",
        "outputId": "57f25811-9172-4a82-bb76-681a997650bd"
      },
      "outputs": [
        {
          "output_type": "stream",
          "name": "stdout",
          "text": [
            "Introduce una plabra por favor: tacuichamona\n",
            "Sobran letras. Tienes 12 letras en tu palabra \n"
          ]
        }
      ],
      "source": [
        "#COMIENZO DEL CODIGO PARA VERIFICAR LA LONGITUD DE UNA PALABRA QUE TIENE QUE TENER ENTRE 4 Y 8 CARACTERES.\n",
        "#se le pide al usuario introducir su palabra\n",
        "\n",
        "palabra = input (\"Introduce una plabra por favor: \")\n",
        "\n",
        "#En este paso se guarda en la variable \"l\" la longitud de la palabra\n",
        "l=len(palabra)\n",
        "#En los siguientes codigos se categoriza que repuesta darle al usuario dependiendo de la longitud de su palabra.\n",
        "if l <= 3:\n",
        "  print(f\"Hacen falta letras. Tienes {l} letras en tu palabra\")\n",
        "elif l >= 4 and l <= 8:\n",
        "  print(f\"La palabra esta en en rango correcto y tiene {l} letras.\")\n",
        "elif l > 8:\n",
        "  print(f\"Sobran letras. Tienes {l} letras en tu palabra \")\n"
      ]
    }
  ]
}